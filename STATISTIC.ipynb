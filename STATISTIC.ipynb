{
 "cells": [
  {
   "cell_type": "raw",
   "id": "7d472dad-21f9-45d8-8ee6-dfbaa86632ed",
   "metadata": {},
   "source": [
    "                                  ASSIGNMENT PART 1"
   ]
  },
  {
   "cell_type": "raw",
   "id": "35a7034f-8468-447d-9dad-e6b731d92d9a",
   "metadata": {},
   "source": [
    "Q1. What is Statistics?"
   ]
  },
  {
   "cell_type": "raw",
   "id": "f700943a-ba99-4130-ade9-baca266c4601",
   "metadata": {},
   "source": [
    "ANS - Statictics is the science of collecting organizing and analyzing data "
   ]
  },
  {
   "cell_type": "raw",
   "id": "efd43e56-3e13-42a0-a880-a97410085740",
   "metadata": {},
   "source": [
    "Q2. Define the different types of statistics and give an example of when each type might be used."
   ]
  },
  {
   "cell_type": "raw",
   "id": "fa14fee0-dbcd-4b4c-9ace-632728d8d778",
   "metadata": {},
   "source": [
    "Statistics can be broadly categorized into two main types: \n",
    "    \n",
    "    1.descriptive statistics:- it consist of organizing and summarizing data .\n",
    "    \n",
    "    example:- Imagine a research study that collected data on the heights (in centimeters)\n",
    "              of a group of students in a school. Descriptive statistics would be used to \n",
    "              calculate the average height (mean), the most common height (mode), and how \n",
    "              much the heights vary from the average (standard deviation).\n",
    "    \n",
    "    2.inferential statistics:- it consist of using data you have measured to form conclution.\n",
    "    \n",
    "    example:-Suppose a marketing team wants to determine if a new advertisement has been effective\n",
    "             in increasing sales. They might collect sales data from a sample of stores where the \n",
    "             ad was run and compare it to sales data from a control group of stores where the ad was\n",
    "             not shown. Inferential statistics would be used to analyze the data and determine \n",
    "                if there is a statistically significant difference in sales between the two groups,\n",
    "                allowing the team to infer whether the ad had a real impact on sales for the larger\n",
    "                population of stores."
   ]
  },
  {
   "cell_type": "raw",
   "id": "c44d9fc9-93d2-4908-a698-613f45b0678a",
   "metadata": {},
   "source": [
    "Q3. What are the different types of data and how do they differ from each other? Provide an example of\n",
    "each type of data."
   ]
  },
  {
   "cell_type": "raw",
   "id": "870f3b8a-2c6c-4750-abc0-df3c2ece6df3",
   "metadata": {},
   "source": [
    "ans:- 1.Qualitative data:-Qualitative data is non-numerical data that describes qualities or characteristics.\n",
    "        It is often used to describe people, places, things, or events.\n",
    "    \n",
    "       Examples:- A qualitative data include text, images, audio, and video.\n",
    "        \n",
    "        Nominal data:-Used to classify things into categories.\n",
    "        \n",
    "        Examples:-Gender, race, eye color,m.f ,blood group, pincode \n",
    "        \n",
    "        Ordinal data:-Ordinal data is a type of data that can be ordered or ranked.\n",
    "        \n",
    "         Examples of ordinal data \"strongly agree,\" \"agree,\" \"neutral,\" \"disagree,\" and \"strongly disagree.\"\n",
    "        \n",
    "        \n",
    "     2.Quantitative data:-Quantitative data is numerical data that represents quantities or amounts.\n",
    "       It is often used to measure or count things.\n",
    "        \n",
    "        Examples:- A quantitative data include numbers, dates, and times.\n",
    "       \n",
    "        Discrete data:- Discrete data is a type of data that can only take on a finite number of values.\n",
    "        \n",
    "        Examples:-  discrete data include the number of people in a room, the number of cars sold in a month,\n",
    "                    and the number of votes cast in an election.\n",
    "    \n",
    "        Continuous data:- Continuous data is a type of data that can take on an infinite number of values.\n",
    "        \n",
    "        Examples:- continuous data include height, weight, and temperature. \n",
    "        "
   ]
  },
  {
   "cell_type": "raw",
   "id": "c7244a44-d7fd-4f52-870a-596d19f87724",
   "metadata": {},
   "source": [
    "Q4. Categorise the following datasets with respect to quantitative and qualitative data types:\n",
    "    (i) Grading in exam: A+, A, B+, B, C+, C, D, E\n",
    "    (ii) Colour of mangoes: yellow, green, orange, red\n",
    "    (iii) Height data of a class: [178.9, 179, 179.5, 176, 177.2, 178.3, 175.8,...]\n",
    "    (iv) Number of mangoes exported by a farm: [500, 600, 478, 672, ...]"
   ]
  },
  {
   "cell_type": "raw",
   "id": "10127762-32c9-4832-8dad-9766eb369ed5",
   "metadata": {},
   "source": [
    "Ans-Qualitative Data:\n",
    "    Qualitative data is non-numerical data that can be categorized based on attributes, characteristics, or qualities.\n",
    "\n",
    "   (i) Grading in exam: A+, A, B+, B, C+, C, D, E\n",
    "   (ii) Colour of mangoes: yellow, green, orange, red\n",
    "    \n",
    "    Quantitative Data:\n",
    "    Quantitative data is numerical data that can be measured or counted.\n",
    "\n",
    "   (iii) Height data of a class: [178.9, 179, 179.5, 176, 177.2, 178.3, 175.8,...]\n",
    "   (iv) Number of mangoes exported by a farm: [500, 600, 478, 672, ...]"
   ]
  },
  {
   "cell_type": "raw",
   "id": "5bf78bbf-70ec-4e00-95dd-4a55ba12430f",
   "metadata": {},
   "source": [
    "Q5. Explain the concept of levels of measurement and give an example of a variable for each level."
   ]
  },
  {
   "cell_type": "raw",
   "id": "0862ce62-c8a4-49d5-8e55-71333bd6878d",
   "metadata": {},
   "source": [
    "Ans:-measurement, also known as scales of measurement or data types, are a way of classifying\n",
    "     variables based on their nature and characteristics\n",
    "    There are four main levels of measurement, each with distinct properties and statistical\n",
    "    operations that can be applied:\n",
    "        \n",
    "    1.Nominal Level (Categorical Data):-At the nominal level, data is categorized into distinct\n",
    "       groups or categories. There is no inherent order or ranking among the categories,\n",
    "       and the data can only be classified into different groups.\n",
    "    \n",
    "    Example: Eye colors of individuals (e.g., blue, brown, green) is a nominal variable.\n",
    "             Each eye color represents a distinct category, \n",
    "             and there is no natural order or ranking among them.\n",
    "            \n",
    "    2.Ordinal Level (Ordinal Data):-Ordinal level data also involves categories, but in this case,\n",
    "      there is a natural order or ranking among the categories.\n",
    "      However, the differences between the categories are not precisely quantifiable.\n",
    "    \n",
    "    Example: Educational levels (e.g., elementary, high school, bachelor's, master's, Ph.D.) is an ordinal variable.\n",
    "             The categories have an order, from the lowest to the highest educational attainment,\n",
    "             but the differences between each level are not necessarily equal."
   ]
  },
  {
   "cell_type": "raw",
   "id": "8706d4e5-5762-475e-b23e-4b19049d335c",
   "metadata": {},
   "source": [
    "Q6. Why is it important to understand the level of measurement when analyzing data? Provide an\n",
    "example to illustrate your answer."
   ]
  },
  {
   "cell_type": "raw",
   "id": "052bd1e7-c45e-4fc5-9052-59efd9e52cfb",
   "metadata": {},
   "source": [
    "ans:-It is important to understand the level of measurement when analyzing data because the level of measurement\n",
    "     determines the type of statistical analysis that can be performed on the data.\n",
    "    \n",
    "     example:- if you have data that is nominal, you cannot calculate the mean or standard deviation of the data.\n",
    "               You can only calculate the frequency of each category.\n",
    "            Let's say you have data on the colors of cars. The colors of cars are nominal data, \n",
    "                so you cannot calculate the mean or standard deviation of the data.\n",
    "                You can only calculate the frequency of each color.\n",
    "                For example, you might find that 50% of the cars in your \n",
    "                sample are red, 25% are blue, and 25% are green.\n",
    "                \n",
    "                \n",
    "    \n",
    "          If you had data on the heights of cars, the heights of cars would be interval data.\n",
    "          You could calculate the mean and standard deviation of the data.\n",
    "          You could also calculate the difference between the heights of two cars.\n",
    "        \n",
    "              example:- you might find that the mean height of a car is 6 feet and the standard deviation is 0.5 feet.\n",
    "                        You could also find that the difference between the heights of two cars is 1 foot.\n",
    "                \n",
    "            some additional reasons why it is important to understand the level of measurement.\n",
    "            \n",
    "            1 level of measurement determines the type of graphs and charts that can be used to visualize the data.\n",
    "            2 level of measurement determines the type of statistical tests that can be performed on the data.\n",
    "            3 level of measurement determines the type of conclusions that can be drawn from the data."
   ]
  },
  {
   "cell_type": "raw",
   "id": "4a99fb49-21a8-4bc1-8e20-0219a9f004c0",
   "metadata": {},
   "source": [
    "Q7. How nominal data type is different from ordinal data type."
   ]
  },
  {
   "cell_type": "raw",
   "id": "2eb38192-8875-4ed2-a1ee-06f7dfa36685",
   "metadata": {},
   "source": [
    "   Nominal and ordinal data types are two of the four levels of measurement in statistics.\n",
    "     They are both categorical data types, meaning that they are used to classify data into categories.\n",
    "     However, there are some key differences between the two types of data.\n",
    "    \n",
    "    Nominal data is the most basic level of measurement. It is used to classify data into categories that\n",
    "           have no inherent order. For example, the variable \"gender\" is nominal because it can be \n",
    "           categorized into the categories \"male\" and \"female.\" The categories \"male\" and \"female\" have no\n",
    "            inherent order, so it does not make sense to say that \"male\" is greater than \"female\" or vice versa.\n",
    "            \n",
    "    Ordinal data is a level of measurement that allows for the ordering of data categories. However, the difference\n",
    "            between the categories is not necessarily meaningful. For example, the variable \"grade point average\" \n",
    "            is ordinal because it can be ordered from low to high,\n",
    "            but the difference between a GPA of 3.0 and a GPA of 3.5 is not necessarily meaningful.\n",
    "            The categories \"3.0,\" \"3.5,\" and so on do have an order, but the difference between each category is not meaningful.\n",
    "            \n",
    "            \n",
    "         table that summarizes the key differences between nominal and ordinal data:-\n",
    "        \n",
    "       Characteristic\tNominal data\tOrdinal data\n",
    "    \n",
    "    \n",
    "     Order\t                            No order\t                                          Ordinal\n",
    "    Meaningful differences     \tNo meaningful differences\t                                  Meaningful differences\n",
    "    Examples\t                Gender, eye color, race                                 Grade point average, Likert scale data \n",
    "    "
   ]
  },
  {
   "cell_type": "raw",
   "id": "fd1c265d-23c0-439d-b721-b56aa591276b",
   "metadata": {},
   "source": [
    "Q8. Which type of plot can be used to display data in terms of range?"
   ]
  },
  {
   "cell_type": "raw",
   "id": "52bae6ab-d192-410b-ad8c-96dccf945114",
   "metadata": {},
   "source": [
    "ans:-A range plot can be used to display data in terms of range.\n",
    "     A range plot is a type of line graph that shows the minimum and maximum values of a data series.\n",
    "     The range plot is a good way to visualize the spread of data and to identify outliers.\n",
    "        \n",
    "   \n",
    "\n",
    "       range plot in this example shows the minimum and maximum values of the data series.\n",
    "        The minimum value is 0 and the maximum value is 99. The range plot also shows the\n",
    "        outliers in the data series. The outliers are the data points that are outside the\n",
    "        range of the majority of the data.\n",
    "        \n",
    "      types of plots that can be used to display data in terms of range:-\n",
    "    \n",
    "    Box plot: A box plot is a type of statistical chart that shows the distribution of data.\n",
    "              The box plot shows the minimum, first quartile, median, third quartile,\n",
    "              and maximum values of the data.\n",
    "            \n",
    "    Histogram: A histogram is a type of graph that shows the distribution of data.\n",
    "               The histogram shows the frequency of each value in the data series.\n",
    "        \n",
    "    Stem-and-leaf plot: A stem-and-leaf plot is a type of graph that shows the distribution of data.\n",
    "         The stem-and-leaf plot shows the individual values in the data series and their corresponding frequencies.\n",
    "    "
   ]
  },
  {
   "cell_type": "raw",
   "id": "049bdf3a-66eb-48d1-b16f-c459f64ca8a2",
   "metadata": {},
   "source": [
    "Q9. Describe the difference between descriptive and inferential statistics. Give an example of each\n",
    "    type of statistics and explain how they are used."
   ]
  },
  {
   "cell_type": "raw",
   "id": "9d76e5b9-5c3b-4883-8967-a8a018e58f9e",
   "metadata": {},
   "source": [
    "    Descriptive statistics are used to summarize data and describe its main features.\n",
    "        They include measures of central tendency (mean, median, mode), measures of dispersion \n",
    "        (variance, standard deviation), and measures of shape (skewness, kurtosis).\n",
    "    \n",
    "        example, a company might use descriptive statistics to summarize the results of a customer satisfaction survey.\n",
    "           They could calculate the average satisfaction score, the range of scores, and the percentage of customers\n",
    "           who were very satisfied.\n",
    "            \n",
    "    Inferential statistics are used to make inferences about a population based on data from a sample.\n",
    "                 They include hypothesis testing, confidence intervals, and regression analysis.\n",
    "        \n",
    "         example, a medical researcher might use inferential statistics to test the hypothesis that a new drug \n",
    "            is effective in treating a particular disease. They would collect data from a sample of patients who \n",
    "            have been treated with the drug and compare their outcomes to those of a control group who did\n",
    "            not receive the drug.\n",
    "            \n",
    "            \n",
    "            \n",
    "     Statistic\t                  Description\t                                          Example\n",
    " Descriptive statistics\t  Used to summarize data and describe its main features Mean,median, mode, variance, standard deviation, skewness, kurtosis\n",
    " Inferential statistics\tUsed to make inferences about a population based on data from a sample\tHypothesis testing, confidence intervals, regression analysis\n",
    "\n",
    "\n",
    "\n",
    "\n",
    "         Descriptive statistics:\n",
    "              The average height of a group of people\n",
    "              The distribution of test scores in a class\n",
    "              The number of customers who visited a store on a particular day\n",
    "            \n",
    "        Inferential statistics:\n",
    "             Testing the hypothesis that a new drug is effective in treating a disease\n",
    "              Predicting the outcome of an election\n",
    "             Determining the relationship between two variables\n",
    "                \n",
    "                \n",
    "       The best type of statistics to use depends on the specific goals of the analysis.\n",
    "         If the goal is to summarize the data and describe its main features, then descriptive \n",
    "         statistics are the best choice.\n",
    "         If the goal is to make inferences about a population based on data from a sample,\n",
    "         then inferential statistics are the best choice"
   ]
  },
  {
   "cell_type": "raw",
   "id": "eb3f554c-81af-408f-991b-d3886c7b611d",
   "metadata": {},
   "source": [
    "Q10. What are some common measures of central tendency and variability used in statistics? Explain\n",
    "     how each measure can be used to describe a dataset."
   ]
  },
  {
   "cell_type": "code",
   "execution_count": null,
   "id": "f8838ae0-1240-46cc-bace-f76958fffed2",
   "metadata": {},
   "outputs": [],
   "source": [
    "ans:-Mean: The mean is the average of all the values in a dataset. \n",
    "          It is calculated by adding all the values in the dataset and dividing by the number of values.\n",
    "    \n",
    "    Median: The median is the middle value in a dataset when all the values are ranked from least to greatest.\n",
    "           If there is an even number of values in the dataset, the median is the average of the two middle values.\n",
    "    Mode: The mode is the most frequent value in a dataset.\n",
    "    \n",
    "    \n",
    "Sure. Here are some common measures of central tendency and variability used in statistics:\n",
    "\n",
    "Measures of central tendency\n",
    "\n",
    "    Mean: The mean is the average of all the values in a dataset. \n",
    "          It is calculated by adding all the values in the dataset and dividing by the number of values.\n",
    "        \n",
    "        \n",
    "\n",
    "        Median: The median is the middle value in a dataset when all the values are ranked from least to greatest.\n",
    "                If there is an even number of values in the dataset, the median is the average of the two middle values.\n",
    "            \n",
    "            Mode: The mode is the most frequent value in a dataset.\n",
    "                  Measures of variability\n",
    "\n",
    "        Variance: The variance is a measure of how spread out the values in a dataset are.\n",
    "                  It is calculated by averaging the squared deviations from the mean.\n",
    "            \n",
    "            \n",
    "        Standard deviation: The standard deviation is the square root of the variance.\n",
    "                            It is a measure of how spread out the values in a dataset are, but it\n",
    "                            is not as sensitive to outliers as the variance.\n",
    "                \n",
    "                \n",
    "                \n",
    "    These measures can be used to describe a dataset in a number of ways.\n",
    "     example:- the mean can be used to describe the average value in a dataset.\n",
    "               The median can be used to describe the middle value in a dataset.\n",
    "               The mode can be used to describe the most frequent value in a dataset.\n",
    "                The variance and standard deviation can be used to describe how spread out the values in a dataset are\n",
    "               \n",
    "       examples of how these measures can be used to describe a dataset:-\n",
    "    \n",
    "    The mean height of a group of people can be used to describe the average height of the group.\n",
    "    \n",
    "     The median income of a population can be used to describe the middle income level in the population.\n",
    "     The mode of a set of test scores can be used to describe the most common score in the set.\n",
    "     The variance of a set of stock prices can be used to describe how volatile the stock market is.\n",
    "     The standard deviation of a set of blood pressure measurements can be used to describe how much\n",
    "      variation there is in the blood pressure measurements.\n",
    "        \n",
    "        "
   ]
  }
 ],
 "metadata": {
  "kernelspec": {
   "display_name": "Python 3 (ipykernel)",
   "language": "python",
   "name": "python3"
  },
  "language_info": {
   "codemirror_mode": {
    "name": "ipython",
    "version": 3
   },
   "file_extension": ".py",
   "mimetype": "text/x-python",
   "name": "python",
   "nbconvert_exporter": "python",
   "pygments_lexer": "ipython3",
   "version": "3.10.8"
  }
 },
 "nbformat": 4,
 "nbformat_minor": 5
}
